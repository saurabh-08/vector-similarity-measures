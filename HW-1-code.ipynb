{
 "cells": [
  {
   "cell_type": "markdown",
   "metadata": {
    "id": "6VxDQ4fWMUbT"
   },
   "source": [
    "Correlation, Cosine similarity, and Euclidean distance using NumPy"
   ]
  },
  {
   "cell_type": "code",
   "execution_count": null,
   "metadata": {
    "colab": {
     "base_uri": "https://localhost:8080/"
    },
    "id": "hkyHJxY5MkNm",
    "outputId": "6dcf9075-a678-46a8-9090-c8e3fffef7ab"
   },
   "outputs": [
    {
     "name": "stdout",
     "output_type": "stream",
     "text": [
      "Calculated using \"NumPy\"\n",
      "\n",
      "Correlation:  -0.3097315126985083\n",
      "Cosine similarity:  0.29694921713297506\n",
      "Euclidean distance:  76.2299153875957\n"
     ]
    }
   ],
   "source": [
    "import numpy as np\n",
    "\n",
    "#Given vectors\n",
    "vector1 = np.array([1, 2, 3, 4, 5])\n",
    "vector2 = np.array([-1, 77, 5, -9, 8])\n",
    "\n",
    "#calculating correlation\n",
    "correlation = np.corrcoef(vector1, vector2)[0, 1]\n",
    "\n",
    "#calculating cosine similarity\n",
    "cosine_similarity = np.dot(vector1, vector2) / (np.linalg.norm(vector1) * np.linalg.norm(vector2))\n",
    "\n",
    "#calculating Euclidean distance\n",
    "euclidean_distance = np.linalg.norm(vector1 - vector2)\n",
    "\n",
    "\n",
    "#printing output\n",
    "print('Calculated using \"NumPy\"')\n",
    "print('\\nCorrelation: ', correlation)\n",
    "print('Cosine similarity: ', cosine_similarity)\n",
    "print('Euclidean distance: ', euclidean_distance)"
   ]
  },
  {
   "cell_type": "markdown",
   "metadata": {
    "id": "V70j1CIxVYDp"
   },
   "source": [
    "Correlation, Cosine similarity, and Euclidean distance using SciPy",
    "\n",
    "\n",
    "---\n",
    "\n",
    "\n",
    "\n",
    "Using SciPy"
   ]
  },
  {
   "cell_type": "code",
   "execution_count": null,
   "metadata": {
    "colab": {
     "base_uri": "https://localhost:8080/"
    },
    "id": "NMNWvUvIVcIm",
    "outputId": "a4d5a9b2-8329-49c0-b52a-cee04aeceff9"
   },
   "outputs": [
    {
     "name": "stdout",
     "output_type": "stream",
     "text": [
      "Calculated using \"SciPy\"\n",
      "\n",
      "Correlation:  -0.3097315126985083\n",
      "Cosine similarity:  0.29694921713297506\n",
      "Euclidean distance:  76.2299153875957\n"
     ]
    }
   ],
   "source": [
    "import scipy.stats\n",
    "from scipy.spatial.distance import cosine, euclidean\n",
    "\n",
    "#Correlation calculation\n",
    "correlation_sp = scipy.stats.pearsonr(vector1, vector2)[0]\n",
    "\n",
    "#Cosine similarity calculation\n",
    "cosine_similarity_sp = 1 - cosine(vector1, vector2)\n",
    "\n",
    "#Euclidean distance calculation\n",
    "euclidean_distance_sp = euclidean(vector1, vector2)\n",
    "\n",
    "\n",
    "#printing SciPy output\n",
    "print('Calculated using \"SciPy\"')\n",
    "print('\\nCorrelation: ', correlation_sp)\n",
    "print('Cosine similarity: ', cosine_similarity_sp)\n",
    "print('Euclidean distance: ', euclidean_distance_sp)"
   ]
  },
  {
   "cell_type": "markdown",
   "metadata": {
    "id": "LZ_NPAACkRYo"
   },
   "source": [
    "Correlation, Cosine similarity, and Euclidean distance using Pandas"
   ]
  },
  {
   "cell_type": "code",
   "execution_count": null,
   "metadata": {
    "colab": {
     "base_uri": "https://localhost:8080/"
    },
    "id": "pE2uyNfZkTlw",
    "outputId": "bd37ca8d-b2dc-407e-e8e6-b08f3c86259b"
   },
   "outputs": [
    {
     "name": "stdout",
     "output_type": "stream",
     "text": [
      "Calculated using \"Pandas\"\n",
      "\n",
      "Correlation:  -0.3097315126985083\n",
      "Cosine similarity:  0.296949217132975\n",
      "Euclidean distance:  76.2299153875957\n"
     ]
    }
   ],
   "source": [
    "import pandas as pd\n",
    "from sklearn.metrics.pairwise import cosine_similarity\n",
    "import math\n",
    "\n",
    "#creating Pandas series\n",
    "series1 = pd.Series(vector1)\n",
    "series2 = pd.Series(vector2)\n",
    "\n",
    "\n",
    "#Correlation calculation\n",
    "correlation_pd = series1.corr(series2)\n",
    "\n",
    "#Cosine similarity calculation\n",
    "cosine_similarity_pd = cosine_similarity([series1.values], [series2.values])[0][0]\n",
    "\n",
    "\n",
    "#Euclidean distance calculation\n",
    "euclidean_distance_pd = math.sqrt(sum((series1 - series2) ** 2))\n",
    "\n",
    "#printing Pandas output\n",
    "print('Calculated using \"Pandas\"')\n",
    "print('\\nCorrelation: ', correlation_pd)\n",
    "print('Cosine similarity: ', cosine_similarity_pd)\n",
    "print('Euclidean distance: ', euclidean_distance_pd)"
   ]
  }
 ],
 "metadata": {
  "colab": {
   "provenance": []
  },
  "kernelspec": {
   "display_name": "Python 3 (ipykernel)",
   "language": "python",
   "name": "python3"
  },
  "language_info": {
   "codemirror_mode": {
    "name": "ipython",
    "version": 3
   },
   "file_extension": ".py",
   "mimetype": "text/x-python",
   "name": "python",
   "nbconvert_exporter": "python",
   "pygments_lexer": "ipython3",
   "version": "3.11.5"
  }
 },
 "nbformat": 4,
 "nbformat_minor": 1
}
